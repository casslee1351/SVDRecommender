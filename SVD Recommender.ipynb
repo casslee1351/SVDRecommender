{
 "cells": [
  {
   "cell_type": "code",
   "execution_count": 1,
   "id": "3ceba7fd",
   "metadata": {},
   "outputs": [],
   "source": [
    "import sqlite3\n",
    "import pandas as pd\n",
    "import numpy as np"
   ]
  },
  {
   "cell_type": "markdown",
   "id": "0feb8c7f",
   "metadata": {},
   "source": [
    "## Simple recommender system using SVD"
   ]
  },
  {
   "cell_type": "code",
   "execution_count": 3,
   "id": "9cfcc3bd",
   "metadata": {},
   "outputs": [],
   "source": [
    "conn = sqlite3.connect(\"OneDrive/Desktop/RestaurantRecommender/rating/recommender-project/db.sqlite3\")"
   ]
  },
  {
   "cell_type": "code",
   "execution_count": 4,
   "id": "1f08ca7a",
   "metadata": {},
   "outputs": [],
   "source": [
    "cursor = conn.cursor()"
   ]
  },
  {
   "cell_type": "code",
   "execution_count": 5,
   "id": "c32e433b",
   "metadata": {},
   "outputs": [],
   "source": [
    "df = pd.read_sql_query(\"SELECT * FROM restaurant\", conn)"
   ]
  },
  {
   "cell_type": "code",
   "execution_count": 6,
   "id": "c2bf89e0",
   "metadata": {},
   "outputs": [],
   "source": [
    "ratings = pd.read_sql_query(\"SELECT * FROM restaurants_rating\", conn)"
   ]
  },
  {
   "cell_type": "code",
   "execution_count": 7,
   "id": "36b77f78",
   "metadata": {},
   "outputs": [],
   "source": [
    "ratings['created'] = pd.to_datetime(ratings['created'])"
   ]
  },
  {
   "cell_type": "code",
   "execution_count": 8,
   "id": "49bbf3ed",
   "metadata": {},
   "outputs": [],
   "source": [
    "ratings = ratings.sort_values('created').drop_duplicates(['user_id', 'restaurant_id'], keep='last')"
   ]
  },
  {
   "cell_type": "code",
   "execution_count": 9,
   "id": "45d530db",
   "metadata": {},
   "outputs": [],
   "source": [
    "ratings = ratings[[\"user_id\", \"restaurant_id\", \"rating\"]]"
   ]
  },
  {
   "cell_type": "code",
   "execution_count": 10,
   "id": "710d91fb",
   "metadata": {},
   "outputs": [],
   "source": [
    "pivoted = pd.pivot_table(data=ratings, index=\"user_id\", columns=\"restaurant_id\", values=\"rating\", fill_value=0, aggfunc=np.sum)"
   ]
  },
  {
   "cell_type": "code",
   "execution_count": 11,
   "id": "d9a339aa",
   "metadata": {},
   "outputs": [],
   "source": [
    "avg = pivoted.mean(axis=1)"
   ]
  },
  {
   "cell_type": "code",
   "execution_count": 12,
   "id": "41f9605f",
   "metadata": {},
   "outputs": [],
   "source": [
    "user_item_centered = pivoted.sub(avg, axis=0)"
   ]
  },
  {
   "cell_type": "code",
   "execution_count": 13,
   "id": "d6ec9d3b",
   "metadata": {},
   "outputs": [],
   "source": [
    "from scipy.sparse.linalg import svds"
   ]
  },
  {
   "cell_type": "code",
   "execution_count": 14,
   "id": "6a6cdbc1",
   "metadata": {},
   "outputs": [],
   "source": [
    "u, e, vt = svds(user_item_centered, k=3)"
   ]
  },
  {
   "cell_type": "code",
   "execution_count": 15,
   "id": "d46da3fb",
   "metadata": {},
   "outputs": [],
   "source": [
    "sigma = np.diag(e)"
   ]
  },
  {
   "cell_type": "code",
   "execution_count": 16,
   "id": "7fd7f9b4",
   "metadata": {},
   "outputs": [],
   "source": [
    "recalc = np.dot(u, np.dot(sigma, vt))"
   ]
  },
  {
   "cell_type": "code",
   "execution_count": 17,
   "id": "f6f0f99d",
   "metadata": {},
   "outputs": [],
   "source": [
    "recalc = recalc + avg.values.reshape(-1, 1)"
   ]
  },
  {
   "cell_type": "code",
   "execution_count": 18,
   "id": "778304fd",
   "metadata": {},
   "outputs": [],
   "source": [
    "recs = pd.DataFrame(recalc,\n",
    "                   index=pivoted.index,\n",
    "                   columns=pivoted.columns)"
   ]
  },
  {
   "cell_type": "code",
   "execution_count": 19,
   "id": "b74e65cd",
   "metadata": {},
   "outputs": [],
   "source": [
    "recs[\"user\"] = recs.index"
   ]
  },
  {
   "cell_type": "code",
   "execution_count": 20,
   "id": "d3675857",
   "metadata": {},
   "outputs": [],
   "source": [
    "recs = pd.melt(recs, id_vars=[\"user\"])"
   ]
  },
  {
   "cell_type": "code",
   "execution_count": 21,
   "id": "79a36768",
   "metadata": {},
   "outputs": [],
   "source": [
    "recs = recs.groupby(['user']).apply(lambda x: x.sort_values(by='value', ascending=False)).reset_index(drop=True)"
   ]
  },
  {
   "cell_type": "code",
   "execution_count": 28,
   "id": "3fa5b6e0",
   "metadata": {},
   "outputs": [],
   "source": [
    "new = recs.merge(ratings, how='outer', left_on=['user', 'restaurant_id'], right_on=['user_id', 'restaurant_id'], indicator=True)"
   ]
  },
  {
   "cell_type": "code",
   "execution_count": 29,
   "id": "2b61ba1c",
   "metadata": {},
   "outputs": [],
   "source": [
    "new = new[new['_merge'] == 'left_only']"
   ]
  },
  {
   "cell_type": "code",
   "execution_count": 32,
   "id": "317314bb",
   "metadata": {},
   "outputs": [],
   "source": [
    "top3 = new.groupby(['user']).head(3)"
   ]
  },
  {
   "cell_type": "code",
   "execution_count": 34,
   "id": "37dc8c8b",
   "metadata": {},
   "outputs": [],
   "source": [
    "top3 = top3[['user', 'restaurant_id']]"
   ]
  },
  {
   "cell_type": "code",
   "execution_count": 36,
   "id": "cf197b4d",
   "metadata": {},
   "outputs": [],
   "source": [
    "conn.close()"
   ]
  },
  {
   "cell_type": "code",
   "execution_count": null,
   "id": "7047ae63",
   "metadata": {},
   "outputs": [],
   "source": []
  }
 ],
 "metadata": {
  "kernelspec": {
   "display_name": "Python 3 (ipykernel)",
   "language": "python",
   "name": "python3"
  },
  "language_info": {
   "codemirror_mode": {
    "name": "ipython",
    "version": 3
   },
   "file_extension": ".py",
   "mimetype": "text/x-python",
   "name": "python",
   "nbconvert_exporter": "python",
   "pygments_lexer": "ipython3",
   "version": "3.9.12"
  }
 },
 "nbformat": 4,
 "nbformat_minor": 5
}
